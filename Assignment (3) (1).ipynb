{
 "cells": [
  {
   "cell_type": "code",
   "execution_count": 3,
   "id": "14524844-8a79-4b5f-8f7b-15b0f9962aaf",
   "metadata": {},
   "outputs": [
    {
     "name": "stdin",
     "output_type": "stream",
     "text": [
      "enter the string anshu\n"
     ]
    },
    {
     "name": "stdout",
     "output_type": "stream",
     "text": [
      "anshu\n",
      "uhsna\n",
      "print the orignal str:  hi anshu\n",
      "print the reverse str: uhsna ih\n"
     ]
    }
   ],
   "source": [
    "''' Q1 Write ' code to reverse string using string func'''\n",
    "s=input(\"enter the string\")\n",
    "print(s)\n",
    "print(s[::-1])\n",
    "\n",
    "'''using without string function'''\n",
    "def reverse(s):\n",
    "    str = \"\"\n",
    "    for i in s:\n",
    "         str=i+str\n",
    "    return str\n",
    "s=\"hi anshu\"\n",
    "print (\"print the orignal str: \", end=\" \"  )\n",
    "print(s)\n",
    "print (\"print the reverse str: \", end=\"\" )\n",
    "print(reverse(s))"
   ]
  },
  {
   "cell_type": "code",
   "execution_count": 1,
   "id": "a32c1b2e-36e8-4cb0-9de6-f6061ea57ee6",
   "metadata": {},
   "outputs": [
    {
     "name": "stdin",
     "output_type": "stream",
     "text": [
      "enter the string anshuanu\n"
     ]
    },
    {
     "name": "stdout",
     "output_type": "stream",
     "text": [
      "anshuanu\n",
      "unauhsna\n",
      "print the orignal str:  hi anshu\n",
      "print the reverse str: uhsna ih\n",
      "the  vowel in the string 3\n",
      "the  consonent in the string 4\n"
     ]
    }
   ],
   "source": [
    "\n",
    "\n",
    "''' q2. Write Code to Count the nu\f",
    "ber of VOWELS in  StrinG'''\n",
    "\n",
    "str=\"hianshu\"\n",
    "vowel=0\n",
    "consonent=0\n",
    "for i in str: \n",
    "    if (i == 'a' or i == 'e' or i == 'i' or i == 'o' or i == 'u' ):\n",
    "        vowel=vowel+1\n",
    "    else:\n",
    "        consonent=consonent+1\n",
    "print(\"the  vowel in the string\", vowel)\n",
    "print(\"the  consonent in the string\", consonent)"
   ]
  },
  {
   "cell_type": "code",
   "execution_count": 48,
   "id": "5df0d7b3-5178-40bc-9989-a6ce8f510ab2",
   "metadata": {},
   "outputs": [
    {
     "name": "stdin",
     "output_type": "stream",
     "text": [
      "Enter string abba\n"
     ]
    },
    {
     "name": "stdout",
     "output_type": "stream",
     "text": [
      "The reverse string is abba\n",
      "it is a palindrome\n"
     ]
    }
   ],
   "source": [
    "'''Q3: Write the code to check if given string is palindrome or not'''\n",
    "\n",
    "#Enter input string \n",
    "str=input(\"Enter string\") \n",
    " \n",
    "#Declare an empty string variable   \n",
    "revstr=\"\" \n",
    " \n",
    "#Iterate string with for loop \n",
    "for i in str:\n",
    "    revstr=i+revstr\n",
    "print(\"The reverse string is\", revstr)\n",
    "if(str == revstr): \n",
    "    print(\"it is a palindrome\")\n",
    "else: \n",
    "    print(\"it is not a palindrome.\")\n"
   ]
  },
  {
   "cell_type": "code",
   "execution_count": 1,
   "id": "74481505-c7c5-491e-85d6-3cd831dd13cb",
   "metadata": {},
   "outputs": [
    {
     "name": "stdin",
     "output_type": "stream",
     "text": [
      "enter string abcd\n",
      "enter second string dcba\n"
     ]
    },
    {
     "name": "stdout",
     "output_type": "stream",
     "text": [
      "abcd and dcba are anagram.\n"
     ]
    }
   ],
   "source": [
    "'Q 4 Write a code to check if two given strings are anagrams of each other'\n",
    "str1 = input(\"enter string\")\n",
    "str2 = input(\"enter second string\")\n",
    "\n",
    "# convert both the strings into lowercase\n",
    "str1 = str1.lower()\n",
    "str2 = str2.lower()\n",
    "\n",
    "# check if length is same\n",
    "if(len(str1) == len(str2)):\n",
    "\n",
    "    # sort the strings\n",
    "    sorted_str1 = sorted(str1)\n",
    "    sorted_str2 = sorted(str2)\n",
    "\n",
    "    # if sorted char arrays are same\n",
    "    if(sorted_str1 == sorted_str2):\n",
    "        print(str1 + \" and \" + str2 + \" are anagram.\")\n",
    "    else:\n",
    "        print(str1 + \" and \" + str2 + \" are not anagram.\")\n",
    "\n",
    "else:\n",
    "    print(str1 + \" and \" + str2 + \" are not anagram.\")"
   ]
  },
  {
   "cell_type": "code",
   "execution_count": 12,
   "id": "a4492faa-c39c-4ab8-a49f-e52631ffa3f5",
   "metadata": {},
   "outputs": [
    {
     "name": "stdin",
     "output_type": "stream",
     "text": [
      "Give me a sentence  I am Anshu. Anshu is a smart girl.\n",
      "What word would you like to find  Anshu\n"
     ]
    },
    {
     "name": "stdout",
     "output_type": "stream",
     "text": [
      "5\n",
      "12\n"
     ]
    }
   ],
   "source": [
    "'Q5  Write a code to find all occurrences of a given substring within another string'\n",
    "import re\n",
    "sentence = input(\"Give me a sentence \")\n",
    "word = input(\"What word would you like to find \")\n",
    "for match in re.finditer(word, sentence):\n",
    "    print (match.start())\n",
    "\n",
    "\n",
    "\n",
    "\n"
   ]
  },
  {
   "cell_type": "code",
   "execution_count": 5,
   "id": "0daff301-02ec-444a-a5ef-74925c2144b9",
   "metadata": {},
   "outputs": [
    {
     "name": "stdout",
     "output_type": "stream",
     "text": [
      "ab3a6c2da3b\n"
     ]
    }
   ],
   "source": [
    "'''Q6  Write a code to perform basic string compression using the counts of repeated character'''\n",
    "def solve(s):\n",
    "   res = \"\"\n",
    "   cnt = 1\n",
    "   for i in range(1, len(s)):\n",
    "      if s[i - 1] == s[i]:\n",
    "         cnt += 1\n",
    "      else:\n",
    "         res = res + s[i - 1]\n",
    "         if cnt > 1:\n",
    "            res += str(cnt)\n",
    "         cnt = 1\n",
    "   res = res + s[-1]\n",
    "   if cnt > 1:\n",
    "      res += str(cnt)\n",
    "   return res\n",
    "\n",
    "s = \"abbbaaaaaaccdaaab\"\n",
    "print(solve(s))\n"
   ]
  },
  {
   "cell_type": "code",
   "execution_count": 6,
   "id": "614b4c8f-1558-4f81-9cfa-77eb5b62f201",
   "metadata": {},
   "outputs": [
    {
     "name": "stdin",
     "output_type": "stream",
     "text": [
      "Enter a string:  anshu\n"
     ]
    },
    {
     "name": "stdout",
     "output_type": "stream",
     "text": [
      "All characters in the string are unique.\n",
      "$$$$$$$$$$$$$$$$$$$$  second way  $$$$$$$$$$$$$$$$$$$$$$$$$$$$$$$$\n"
     ]
    },
    {
     "name": "stdin",
     "output_type": "stream",
     "text": [
      "enter string anshuanu\n"
     ]
    },
    {
     "name": "stdout",
     "output_type": "stream",
     "text": [
      "The String  anshuanu  has duplicate characters\n"
     ]
    }
   ],
   "source": [
    "'''q 7.Write a code to determine if a string has all unique character'''\n",
    "\n",
    "def uniquechar(string):\n",
    "    return len(set(string)) == len(string)\n",
    "\n",
    "string1= input(\"Enter a string: \")\n",
    "if uniquechar(string1):\n",
    "    print(\"All characters in the string are unique.\")\n",
    "else:\n",
    "    print(\"The string contains duplicate characters.\")\n",
    "\n",
    "print('$$$$$$$$$$$$$$$$$$$$  second way  $$$$$$$$$$$$$$$$$$$$$$$$$$$$$$$$')\n",
    "def uniqueCharacters(str):\n",
    "    for i in range(len(str)):\n",
    "        for j in range(i + 1,len(str)): \n",
    "            if(str[i] == str[j]):\n",
    "                return False;\n",
    "    return True;\n",
    " \n",
    "str = input(\"enter string\");\n",
    "if(uniqueCharacters(str)):\n",
    "    print(\"The String \", str,\" has all unique characters\");\n",
    "else:\n",
    "    print(\"The String \", str, \" has duplicate characters\");\n"
   ]
  },
  {
   "cell_type": "code",
   "execution_count": 5,
   "id": "b87ffbb8-9b95-4825-8832-f199ea7ca8b1",
   "metadata": {},
   "outputs": [
    {
     "name": "stdin",
     "output_type": "stream",
     "text": [
      "enter string in upper case ANSHU\n"
     ]
    },
    {
     "name": "stdout",
     "output_type": "stream",
     "text": [
      "the orignal str ANSHU\n",
      "anshu\n"
     ]
    }
   ],
   "source": [
    "''q8.'Write a code to convert a given string to uppercase or lowercase'''\n",
    "str=input(\"enter string in upper case\")\n",
    "print(\"the orignal str\",str)\n",
    "str1=str.lower()\n",
    "print(\"str1)\n",
    "\n",
    "\n"
   ]
  },
  {
   "cell_type": "code",
   "execution_count": 20,
   "id": "97c54a24-4a27-4c7c-ac75-191895f55c84",
   "metadata": {},
   "outputs": [
    {
     "name": "stdin",
     "output_type": "stream",
     "text": [
      "enter string:   a nshu is a smart girl\n"
     ]
    },
    {
     "name": "stdout",
     "output_type": "stream",
     "text": [
      "a nshu is a smart girl\n",
      "Total no of words are 6\n"
     ]
    }
   ],
   "source": [
    "'''Q9 Write a code to count the number of words in a string'''\n",
    "\n",
    "string = input (\"enter string:  \")\n",
    "print(string)\n",
    "result = len(string.split())\n",
    "print(\"Total no of words are\", result)\n",
    "\n"
   ]
  },
  {
   "cell_type": "code",
   "execution_count": 33,
   "id": "3159f0eb-8955-49cd-a2a8-642474108e46",
   "metadata": {},
   "outputs": [
    {
     "name": "stdout",
     "output_type": "stream",
     "text": [
      "Python programming language\n"
     ]
    }
   ],
   "source": [
    "''' Q 10 Write a code to concatenate two strings without using the + operator'''\n",
    "s1 = 'Python'\n",
    "s2 = 'programming language'\n",
    "s = ' '.join([s1, s2])\n",
    "print(s)"
   ]
  },
  {
   "cell_type": "code",
   "execution_count": 21,
   "id": "7b4e0ef8-7177-43aa-9308-06272cbd1526",
   "metadata": {},
   "outputs": [
    {
     "name": "stdout",
     "output_type": "stream",
     "text": [
      "Anshu is  a smart girl\n"
     ]
    }
   ],
   "source": [
    "'''Q 11  Write a code to remove all occurrences of a specific element from a list'''\n",
    "\n",
    "string = 'Anshu is isnot a smart girl'\n",
    "print(string.replace('isnot', ''))"
   ]
  },
  {
   "cell_type": "code",
   "execution_count": 31,
   "id": "d7500775-5534-40bc-9032-d146ff43bbbe",
   "metadata": {},
   "outputs": [
    {
     "name": "stdout",
     "output_type": "stream",
     "text": [
      "[1, 3, 9, 11, 99, 100, 200, 500]\n",
      "200\n"
     ]
    }
   ],
   "source": [
    "# Q 12 Implement a code to find the second largest number in a given list of integers\n",
    "list=[ 100,200,500,1,3,9,11,99]\n",
    "list.sort()\n",
    "print(list)\n",
    "print(list[-2])\n"
   ]
  },
  {
   "cell_type": "code",
   "execution_count": 41,
   "id": "18683c86-1ee7-4a85-bb3b-fc150aec77b0",
   "metadata": {},
   "outputs": [
    {
     "name": "stdout",
     "output_type": "stream",
     "text": [
      "{1: 2, 2: 3, 3: 1, 4: 1}\n"
     ]
    }
   ],
   "source": [
    "'''Q 13 Create a code to count the occurrences of each element in a list and return a dictionary with elements as \n",
    "keys and their counts as values'''\n",
    "def dict(my_list):\n",
    "  \"\"\"Counts the occurrences of each element in a list.\n",
    "\n",
    "  Args:\n",
    "      my_list: A list of any data type.\n",
    "\n",
    "  Returns:\n",
    "      A dictionary with elements as keys and their counts as values.\n",
    "  \"\"\"\n",
    "\n",
    "  count = {}\n",
    "  for element in my_list:\n",
    "    if element in count:\n",
    "      count[element] += 1\n",
    "    else:\n",
    "      count[element] = 1\n",
    "  return count\n",
    "\n",
    "my_list = [1, 2, 2, 3, 1, 4, 2]\n",
    "count = dict(my_list)\n",
    "print(count)\n",
    "\n",
    "\n",
    "\n",
    "\n"
   ]
  },
  {
   "cell_type": "code",
   "execution_count": 45,
   "id": "f85e1fa6-cdd5-452c-839d-8270387154fd",
   "metadata": {},
   "outputs": [
    {
     "name": "stdout",
     "output_type": "stream",
     "text": [
      "[15, 14, 13, 12, 11, 10]\n",
      "[15, 14, 13, 13, 12, 11, 10]\n"
     ]
    }
   ],
   "source": [
    "'''Q 14 write a code to reverse a list in-place without using any built-in reverse functions'''\n",
    "\n",
    "list=[10, 11, 12, 13, 14, 15]\n",
    "new_list=list[::-1]\n",
    "print(new_list)\n",
    "'%%%%%%%%%%%%%%%%%%%%%%%%%%%%%%%%%%%%%%%%%%%%%%%%%%%%%%'\n",
    "\n",
    "def Reverse_the(lst):\n",
    "   new_lst = lst[::-1]\n",
    "   return new_lst\n",
    " \n",
    " \n",
    "lst = [10, 11, 12, 13, 13, 14, 15]\n",
    "print(Reverse_the(lst))\n",
    "\n",
    "unique_list = []\n",
    "for x in original_list:\n",
    "    if x not in unique_list:\n",
    "        unique_list.append(x)\n",
    "print(\"Update List:\", unique_list)\n"
   ]
  },
  {
   "cell_type": "code",
   "execution_count": 75,
   "id": "fd4daed4-83b6-42dc-a0f5-b3f014974085",
   "metadata": {},
   "outputs": [
    {
     "name": "stdout",
     "output_type": "stream",
     "text": [
      "Original List: [1, 2, 3, 4, 2, 4, 3, 1]\n",
      "Update List: [1, 2, 3, 4]\n"
     ]
    }
   ],
   "source": [
    "'''Q 15 Implement a code to find and remove duplicates from a list while preserving the original order of \n",
    "elements'''\n",
    "\n",
    "L1 = [1, 2, 3, 4, 2,4,3,1]\n",
    "print(\"Original List:\", L1)\n",
    " \n",
    "L2 = []\n",
    "for x in L1:\n",
    "    if x not in L2:\n",
    "        L2.append(x)\n",
    "print(\"Update List:\",L2)\n",
    "\n"
   ]
  },
  {
   "cell_type": "code",
   "execution_count": 6,
   "id": "ceca0c48-b400-4e4d-9581-e184053a5da4",
   "metadata": {},
   "outputs": [
    {
     "name": "stdout",
     "output_type": "stream",
     "text": [
      "[1, 5, 6, 7, 9, 10]\n",
      "[10, 9, 7, 6, 5, 1]\n"
     ]
    }
   ],
   "source": [
    "'''Q16 Create a code to check if a given list is sorted (either in ascending or descending order) or not'''\n",
    "list=[1,7,5,9,6,10]\n",
    "list.sort()\n",
    "print(list)\n",
    "list.sort(reverse=True)\n",
    "print(list)"
   ]
  },
  {
   "cell_type": "code",
   "execution_count": 7,
   "id": "16b9b19c-4ce0-449c-9d63-812a91cf170a",
   "metadata": {},
   "outputs": [
    {
     "name": "stdout",
     "output_type": "stream",
     "text": [
      "List after sorting:  [0, 1, 2, 4, 7, 9]\n"
     ]
    }
   ],
   "source": [
    "''' Q 17 Write a code to merge two sorted lists into a single sorted list\u0012'''\n",
    "first = [2, 7, 9]\n",
    "second = [0, 1, 4]\n",
    "\n",
    "result = sorted(first + second)\n",
    "\n",
    "print(\"List after sorting: \", str(result))"
   ]
  },
  {
   "cell_type": "code",
   "execution_count": 11,
   "id": "bcdae84c-89b9-4ba7-be2b-8396e7ebb765",
   "metadata": {},
   "outputs": [
    {
     "name": "stdout",
     "output_type": "stream",
     "text": [
      "[9, 11, 26, 28]\n"
     ]
    }
   ],
   "source": [
    "# Q 18 Implement a code to find the intersection of two given list\n",
    "def intersection(lst1, lst2):\n",
    "    lst3 = [value for value in lst1 if value in lst2]\n",
    "    return lst3\n",
    "\n",
    " \n",
    "lst1 = [4, 9, 1, 17, 11, 26, 28, 54, 69]\n",
    "lst2 = [9, 9, 74, 21, 45, 11, 63, 28, 26]\n",
    "print(intersection(lst1, lst2))"
   ]
  },
  {
   "cell_type": "code",
   "execution_count": 1,
   "id": "b2299830-6eb6-444e-ba17-312c780085d3",
   "metadata": {},
   "outputs": [
    {
     "name": "stdout",
     "output_type": "stream",
     "text": [
      "['world', 'hello', 'universe']\n"
     ]
    }
   ],
   "source": [
    "# Q 19  Create a code to find the union of two lists without duplicates\n",
    "a = ['hello', 'world']\n",
    "b = ['hello', 'universe']\n",
    "\n",
    "c = list(set(a + b))\n",
    "\n",
    "print(c)"
   ]
  },
  {
   "cell_type": "code",
   "execution_count": 4,
   "id": "5b627ec7-d852-45a6-a907-75dee1c88854",
   "metadata": {},
   "outputs": [
    {
     "name": "stdout",
     "output_type": "stream",
     "text": [
      "Original list: [1, 2, 3, 4, 5]\n",
      "Shuffled list: [2, 4, 1, 3, 5]\n"
     ]
    }
   ],
   "source": [
    "'Q 20 Write a code to shuffle a given list randomly without using any built-in shuffle functions'\n",
    "import random\n",
    "def new_list(input_list):\n",
    "    new_list = input_list[:]  # Create a copy of the original list\n",
    "    n = len(new_list)  # Get the length of the list\n",
    "    for i in range(n):        \n",
    "        j = random.randint(0, n - 1)\n",
    "        new_list[i], new_list[j] = new_list[j], new_list[i] \n",
    "    return new_list\n",
    "\n",
    "original_list = [1, 2, 3, 4, 5]\n",
    "shuffled = new_list(original_list)\n",
    "print(\"Original list:\", original_list)\n",
    "print(\"Shuffled list:\", shuffled)\n",
    "  \n"
   ]
  },
  {
   "cell_type": "code",
   "execution_count": 9,
   "id": "7c0ef777-c171-433c-9ea5-f1ca0e5cd332",
   "metadata": {},
   "outputs": [
    {
     "name": "stdout",
     "output_type": "stream",
     "text": [
      "Intersection of list1 and list2: [4, 5]\n"
     ]
    }
   ],
   "source": [
    "# Q21 Write a code that takes two tuples as input and returns a new tuple containing elements that are \n",
    "common to both input tuples\u0012\n",
    "def intersection(l1, l2):\n",
    "    set1 = set(l1)\n",
    "    set2 = set(l2)\n",
    "    \n",
    "    intersect = set1.intersection(set2)\n",
    "    intersect_list = list(intersect)\n",
    "    \n",
    "    return intersect_list\n",
    "\n",
    "list1 = [1, 2, 3, 4, 5]\n",
    "list2 = [4, 5, 6, 7, 8]\n",
    "intersect = intersection(list1, list2)\n",
    "print(\"Intersection of list1 and list2:\", intersect)"
   ]
  },
  {
   "cell_type": "code",
   "execution_count": 13,
   "id": "125171db-158a-4ec3-bea2-db63dab2cd06",
   "metadata": {},
   "outputs": [
    {
     "name": "stdin",
     "output_type": "stream",
     "text": [
      "Enter space-separated words:  anu veenu sheenu renu \n"
     ]
    },
    {
     "name": "stdout",
     "output_type": "stream",
     "text": [
      "{'veenu', 'renu', 'sheenu', 'anu'}\n"
     ]
    },
    {
     "name": "stdin",
     "output_type": "stream",
     "text": [
      "Enter space-separated words:  anu anshu shivu anuprita\n"
     ]
    },
    {
     "name": "stdout",
     "output_type": "stream",
     "text": [
      "{'shivu', 'anshu', 'anuprita', 'anu'}\n",
      "Intersection of set1 and set2: ['anu']\n"
     ]
    }
   ],
   "source": [
    "# Q 22 Create a code that prompts the user to enter two sets of integers separated by commas. Then, print the intersection of these two sets\n",
    "\n",
    "set1  = set(input('Enter space-separated words: ').split())\n",
    "print(set1)\n",
    "set2  = set(input('Enter space-separated words: ').split())\n",
    "print(set2)\n",
    "intersect_set=intersection(set1,set2)\n",
    "print(\"Intersection of set1 and set2:\", intersect_set)"
   ]
  },
  {
   "cell_type": "code",
   "execution_count": 14,
   "id": "c0dbd2fb-0d8d-48ed-9283-08eecf118cd7",
   "metadata": {},
   "outputs": [
    {
     "name": "stdout",
     "output_type": "stream",
     "text": [
      "(1, 2, 3, 4, 5, 6, 3, 4)\n"
     ]
    }
   ],
   "source": [
    "#Q 23 Write a code to concatenate two tuples. The function should take two tuples as input and return a new tuple containing elements from both input tuples.\n",
    "tup1=(1,2,3,4)\n",
    "tup2=(5,6,3,4)\n",
    "tup3=tup1+tup2\n",
    "print(tup3)"
   ]
  },
  {
   "cell_type": "code",
   "execution_count": 16,
   "id": "b42e18ae-82f3-450f-b04e-8bf4f11535ab",
   "metadata": {},
   "outputs": [
    {
     "name": "stdout",
     "output_type": "stream",
     "text": [
      "{'veenu', 'anu'}\n"
     ]
    }
   ],
   "source": [
    "#Q 24 Develop a code that prompts the user to input two sets of strings. Then, print the elements that are present in the first set but not in the second set\n",
    "set1={\"anu\",\"veenu\",\"renu\"}\n",
    "set2={\"renu\",\"anumita\",\"vita\" }\n",
    "set3= set1 - set2\n",
    "print(set3)\n"
   ]
  },
  {
   "cell_type": "code",
   "execution_count": 10,
   "id": "43be74a1-666a-4f9b-b837-497e51b6a10c",
   "metadata": {},
   "outputs": [
    {
     "name": "stdout",
     "output_type": "stream",
     "text": [
      "(3, 4, 5)\n"
     ]
    }
   ],
   "source": [
    "'''Q 25 Create a code that takes a tuple and two integers as input. The function should return a new tuple \n",
    "containing elements from the original tuple within the specified range of indices'''\n",
    "\n",
    "def slice_tuple(original_tuple, start_index, end_index):\n",
    "    sliced_tuple = original_tuple[start_index:end_index]\n",
    "    return sliced_tuple\n",
    "original_tuple = (1, 2, 3, 4, 5, 6, 7, 8)\n",
    "start_index = 2\n",
    "end_index = 5\n",
    "result = slice_tuple(original_tuple, start_index, end_index)\n",
    "print(result)  "
   ]
  },
  {
   "cell_type": "code",
   "execution_count": 20,
   "id": "8fa77313-e7dc-40e1-a94d-30e80e436035",
   "metadata": {},
   "outputs": [
    {
     "name": "stdin",
     "output_type": "stream",
     "text": [
      "Enter characters for the first set (separated by space):  anu veenu meenu\n"
     ]
    },
    {
     "name": "stdout",
     "output_type": "stream",
     "text": [
      "{'veenu', 'meenu', 'anu'}\n"
     ]
    },
    {
     "name": "stdin",
     "output_type": "stream",
     "text": [
      "Enter characters for the second set (separated by space):  tinu shivu chinu\n"
     ]
    },
    {
     "name": "stdout",
     "output_type": "stream",
     "text": [
      "{'tinu', 'shivu', 'chinu'}\n",
      "Union of the two sets: {'veenu', 'shivu', 'chinu', 'tinu', 'meenu', 'anu'}\n"
     ]
    }
   ],
   "source": [
    "# q 26 Write a code that prompts the user to input two sets of characters. Then, print the union of these two sets\n",
    "\n",
    "set1 = set(input(\"Enter characters for the first set (separated by space): \").split())\n",
    "print (set1)\n",
    "set2 = set(input(\"Enter characters for the second set (separated by space): \").split())\n",
    "union_set = set1.union(set2)\n",
    "print (set2)\n",
    "print(\"Union of the two sets:\", union_set)"
   ]
  },
  {
   "cell_type": "code",
   "execution_count": 23,
   "id": "88f85875-8f61-4a3c-9fc4-b1fadc1b38a7",
   "metadata": {},
   "outputs": [
    {
     "name": "stdout",
     "output_type": "stream",
     "text": [
      "Minimum value: 1\n",
      "Maximum value: 9\n"
     ]
    }
   ],
   "source": [
    "# q 27 Develop a code that takes a tuple of integers as input. The function should return the maximum and minimum values from the tuple using tuple unpacking\n",
    "def min_max(tuple):\n",
    "    a, b, c, d = tuple\n",
    "    min_value = min(a, b, c, d)\n",
    "    max_value = max(a, b, c, d)\n",
    "    return min_value, max_value\n",
    "\n",
    "tup1 = (1, 2, 3, 9)\n",
    "min_value, max_value = min_max(tup1)\n",
    "print(\"Minimum value:\", min_value)\n",
    "print(\"Maximum value:\", max_value)\n",
    "\n"
   ]
  },
  {
   "cell_type": "code",
   "execution_count": 28,
   "id": "8c0aa9fb-a5e8-4d31-b8b6-a3c03619a761",
   "metadata": {},
   "outputs": [
    {
     "name": "stdout",
     "output_type": "stream",
     "text": [
      "{1, 2, 3, 4, 5, 6, 7, 8}\n",
      "set()\n"
     ]
    }
   ],
   "source": [
    "#q 28 Create a code that defines two sets of integers. Then, print the union, intersection, and difference of these two sets\n",
    "s1={1,2,3,5}\n",
    "s2={4,6,7,8}\n",
    "s3= s1.union(s2)\n",
    "print(s3)\n",
    "s4=s1.intersection(s2)\n",
    "print (s4)\n",
    "s5="
   ]
  },
  {
   "cell_type": "code",
   "execution_count": 1,
   "id": "5ae2181a-0751-487e-9004-836ee4e676f9",
   "metadata": {},
   "outputs": [
    {
     "data": {
      "text/plain": [
       "5"
      ]
     },
     "execution_count": 1,
     "metadata": {},
     "output_type": "execute_result"
    }
   ],
   "source": [
    "#Q28) Write a code that takes a tuple and an element as input. The function should return the count of occurrences of the given element in the tuple\n",
    "\n",
    "def count_occurrences(tup, element):\n",
    "  tuple=tup.count(element)\n",
    "  return tuple\n",
    "tuple= (1, 2, 3, 4, 1, 2, 1, 1, 5, 1)\n",
    "element= 1\n",
    "count_occurrences(tuple,element)\n"
   ]
  },
  {
   "cell_type": "code",
   "execution_count": 8,
   "id": "571baf08-f853-48c8-843f-6afd37637ee1",
   "metadata": {},
   "outputs": [
    {
     "name": "stdin",
     "output_type": "stream",
     "text": [
      "Enter the first set of strings (separated by spaces):  apple orange banana\n",
      "Enter the second set of strings (separated by spaces):  banana grape apple\n"
     ]
    },
    {
     "name": "stdout",
     "output_type": "stream",
     "text": [
      "The symmetric difference of the two sets is: {'orange', 'grape'}\n"
     ]
    }
   ],
   "source": [
    "# Q 30  Develop a code that prompts the user to input two sets of strings. Then, print the symmetric difference of these two sets\n",
    "\n",
    "def get_set_from_input(prompt):\n",
    "    user_input = input(prompt)\n",
    "    return set(user_input.split())\n",
    "\n",
    "set1 = get_set_from_input(\"Enter the first set of strings (separated by spaces): \")\n",
    "set2 = get_set_from_input(\"Enter the second set of strings (separated by spaces): \")e\n",
    "sym_diff = set1.symmetric_difference(set2)\n",
    "print(\"The symmetric difference of the two sets is:\", sym_diff)"
   ]
  },
  {
   "cell_type": "code",
   "execution_count": 10,
   "id": "ef7b7fa4-150b-4f44-8621-52d09b4b46f4",
   "metadata": {},
   "outputs": [
    {
     "data": {
      "text/plain": [
       "{'anshu': 1, 'banana': 2, 'apple': 2, 'orange': 1}"
      ]
     },
     "execution_count": 10,
     "metadata": {},
     "output_type": "execute_result"
    }
   ],
   "source": [
    "'''Q 31  Write a code that takes a list of words as input and returns a dictionary where the keys are unique words \n",
    "and the values are the frequencies of those words in the input list\n",
    "'''\n",
    "def word_frequencies(word_list):\n",
    "    frequency_dict = {}\n",
    "    for word in word_list:\n",
    "        if word in frequency_dict:\n",
    "            frequency_dict[word] += 1\n",
    "        else:\n",
    "            frequency_dict[word] = 1\n",
    "    return frequency_dict\n",
    "words = [\"anshu\", \"banana\", \"apple\", \"orange\", \"banana\", \"apple\"]\n",
    "word_frequencies(words)\n",
    "\n"
   ]
  },
  {
   "cell_type": "code",
   "execution_count": 14,
   "id": "5b712884-279e-4050-b540-2b28f564d42c",
   "metadata": {},
   "outputs": [
    {
     "name": "stdout",
     "output_type": "stream",
     "text": [
      "None\n",
      "{'d': 6, 'c': 4, 'a': 10, 'b': 8}\n"
     ]
    }
   ],
   "source": [
    " '''32 Write a code that takes two dictionaries as input and merges them into a single dictionary. If there are \n",
    "common keys, the values should be added together'''\n",
    "\n",
    "\n",
    "dict1 = {'a': 10, 'b': 8}\n",
    "dict2 = {'d': 6, 'c': 4}\n",
    "dict2.update(dict1)\n",
    "print(dict2)\n",
    "\n"
   ]
  },
  {
   "cell_type": "code",
   "execution_count": 21,
   "id": "ed4d9d2b-154c-470d-bfb3-688a39e922cb",
   "metadata": {},
   "outputs": [
    {
     "data": {
      "text/plain": [
       "42"
      ]
     },
     "execution_count": 21,
     "metadata": {},
     "output_type": "execute_result"
    }
   ],
   "source": [
    "'''Q 33 Write a code to access a value in a nested dictionary. The function should take the dictionary and a list of \n",
    "keys as input, and return the corresponding value. If any of the keys do not exist in the dictionary, the \n",
    "function should return None'''\n",
    "\n",
    "\n",
    "def get_nested_value(dictionary, keys):\n",
    "    current_dict = dictionary\n",
    "    for key in keys:\n",
    "        if key in current_dict:\n",
    "            current_dict = current_dict[key]\n",
    "        else:\n",
    "            return None\n",
    "    return current_dict\n",
    "nested_dict = {\n",
    "    'a': {\n",
    "        'b': {\n",
    "            'c': 42\n",
    "        }\n",
    "    }\n",
    "}\n",
    "\n",
    "keys = ['a', 'b', 'c']\n",
    "get_nested_value(nested_dict,keys)\n"
   ]
  },
  {
   "cell_type": "code",
   "execution_count": 24,
   "id": "dbd51d6e-c0ae-4869-bc54-927076519bba",
   "metadata": {},
   "outputs": [
    {
     "data": {
      "text/plain": [
       "{1: 'Jill', 2: 'Jack', 3: 'Jim', 4: 'Jane'}"
      ]
     },
     "execution_count": 24,
     "metadata": {},
     "output_type": "execute_result"
    }
   ],
   "source": [
    "'''Q 34 Write a code that takes a dictionary as input and returns a sorted version of it based on the values. You \n",
    "can choose whether to sort in ascending or descending order'''\n",
    "\n",
    "people = {3: \"Jim\", 2: \"Jack\", 4: \"Jane\", 1: \"Jill\"}\n",
    "dict(sorted(people.items()))\n",
    "\n"
   ]
  },
  {
   "cell_type": "code",
   "execution_count": 25,
   "id": "a5e3fa35-7a43-48c1-9c6b-ba776633b9e2",
   "metadata": {},
   "outputs": [
    {
     "name": "stdout",
     "output_type": "stream",
     "text": [
      "{'Jim': [3], 'Jack': [2, 5], 'Jane': [4], 'Jill': [1]}\n"
     ]
    }
   ],
   "source": [
    "'''35 Write a code that inverts a dictionary, swapping keys and values. Ensure that the inverted dictionary \n",
    "correctly handles cases where multiple keys have the same value by storing the keys as a list in the \n",
    "inverted dictionary.\n",
    "'''\n",
    "def invert_dictionary(original_dict):\n",
    "    inverted_dict = {}\n",
    "    for key, value in original_dict.items():\n",
    "        if value not in inverted_dict:\n",
    "            inverted_dict[value] = [key]\n",
    "        else:\n",
    "            inverted_dict[value].append(key)\n",
    "    return inverted_dict\n",
    "\n",
    "people = {3: \"Jim\", 2: \"Jack\", 4: \"Jane\", 1: \"Jill\", 5: \"Jack\"}\n",
    "inverted_people = invert_dictionary(people)\n",
    "print(inverted_people)"
   ]
  },
  {
   "cell_type": "code",
   "execution_count": null,
   "id": "ea164b0f-2c3d-4ef9-afb2-93b9ef705d8c",
   "metadata": {},
   "outputs": [],
   "source": []
  }
 ],
 "metadata": {
  "kernelspec": {
   "display_name": "Python 3 (ipykernel)",
   "language": "python",
   "name": "python3"
  },
  "language_info": {
   "codemirror_mode": {
    "name": "ipython",
    "version": 3
   },
   "file_extension": ".py",
   "mimetype": "text/x-python",
   "name": "python",
   "nbconvert_exporter": "python",
   "pygments_lexer": "ipython3",
   "version": "3.11.7"
  }
 },
 "nbformat": 4,
 "nbformat_minor": 5
}
